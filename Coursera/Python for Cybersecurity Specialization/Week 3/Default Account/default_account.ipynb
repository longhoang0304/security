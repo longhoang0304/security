{
 "cells": [
  {
   "cell_type": "code",
   "execution_count": null,
   "id": "initial_id",
   "metadata": {
    "collapsed": true
   },
   "outputs": [],
   "source": [
    "import paramiko\n",
    "import telnetlib"
   ]
  },
  {
   "cell_type": "code",
   "execution_count": 5,
   "outputs": [],
   "source": [
    "def SSHLogin(host, port, username, password):\n",
    "    ssh = None\n",
    "    try:\n",
    "        ssh = paramiko.SSHClient()\n",
    "        ssh.set_missing_host_key_policy(paramiko.AutoAddPolicy())\n",
    "        ssh.connect(host, port=port, username=username, password=password)\n",
    "        ssh_session = ssh.get_transport().open_session()\n",
    "        if ssh_session.active:\n",
    "            print(f\"SSH login successfully on {host}:{port} with {username}:{password}\")\n",
    "    except:\n",
    "        return\n",
    "    finally:\n",
    "        if ssh is not None: ssh.close()"
   ],
   "metadata": {
    "collapsed": false,
    "ExecuteTime": {
     "end_time": "2023-10-26T10:50:40.415830900Z",
     "start_time": "2023-10-26T10:50:40.397805700Z"
    }
   },
   "id": "6c803157e92b0af1"
  },
  {
   "cell_type": "code",
   "execution_count": 7,
   "outputs": [],
   "source": [
    "def TelnetLogin(host, port, username, password):\n",
    "    telnet = None\n",
    "    telnet = telnetlib.Telnet(host, port)\n",
    "    telnet.read_until(\"login: \")\n",
    "    telnet.write(f\"{username}\\n\")\n",
    "    telnet.read_until(\"Password: \")\n",
    "    telnet.write(f\"{password}\\n\")\n",
    "\n",
    "    try:\n",
    "        result = telnet.expect([\"Last login\"], timeout=2)\n",
    "        if result[0] > 0:\n",
    "            print(f\"Telnet login successfully on {host}:{port} with {username}:{password}\")\n",
    "    except EOFError:\n",
    "        print(f\"Login failed on {host}:{port} with {username}:{password}\")\n",
    "        return\n",
    "    finally:\n",
    "        if telnet is not None: telnet.close()"
   ],
   "metadata": {
    "collapsed": false,
    "ExecuteTime": {
     "end_time": "2023-10-26T11:07:17.694977400Z",
     "start_time": "2023-10-26T11:07:17.657705900Z"
    }
   },
   "id": "1ed2a80596cbd396"
  },
  {
   "cell_type": "code",
   "execution_count": 8,
   "outputs": [
    {
     "ename": "ConnectionRefusedError",
     "evalue": "[WinError 10061] No connection could be made because the target machine actively refused it",
     "output_type": "error",
     "traceback": [
      "\u001B[1;31m---------------------------------------------------------------------------\u001B[0m",
      "\u001B[1;31mConnectionRefusedError\u001B[0m                    Traceback (most recent call last)",
      "Cell \u001B[1;32mIn[8], line 7\u001B[0m\n\u001B[0;32m      5\u001B[0m \u001B[38;5;28;01mfor\u001B[39;00m user, pwd \u001B[38;5;129;01min\u001B[39;00m users:\n\u001B[0;32m      6\u001B[0m     SSHLogin(host, \u001B[38;5;241m22\u001B[39m, user, pwd)\n\u001B[1;32m----> 7\u001B[0m     \u001B[43mTelnetLogin\u001B[49m\u001B[43m(\u001B[49m\u001B[43mhost\u001B[49m\u001B[43m,\u001B[49m\u001B[43m \u001B[49m\u001B[38;5;241;43m23\u001B[39;49m\u001B[43m,\u001B[49m\u001B[43m \u001B[49m\u001B[43muser\u001B[49m\u001B[43m,\u001B[49m\u001B[43m \u001B[49m\u001B[43mpwd\u001B[49m\u001B[43m)\u001B[49m\n",
      "Cell \u001B[1;32mIn[7], line 3\u001B[0m, in \u001B[0;36mTelnetLogin\u001B[1;34m(host, port, username, password)\u001B[0m\n\u001B[0;32m      1\u001B[0m \u001B[38;5;28;01mdef\u001B[39;00m \u001B[38;5;21mTelnetLogin\u001B[39m(host, port, username, password):\n\u001B[0;32m      2\u001B[0m     telnet \u001B[38;5;241m=\u001B[39m \u001B[38;5;28;01mNone\u001B[39;00m\n\u001B[1;32m----> 3\u001B[0m     telnet \u001B[38;5;241m=\u001B[39m \u001B[43mtelnetlib\u001B[49m\u001B[38;5;241;43m.\u001B[39;49m\u001B[43mTelnet\u001B[49m\u001B[43m(\u001B[49m\u001B[43mhost\u001B[49m\u001B[43m,\u001B[49m\u001B[43m \u001B[49m\u001B[43mport\u001B[49m\u001B[43m)\u001B[49m\n\u001B[0;32m      4\u001B[0m     telnet\u001B[38;5;241m.\u001B[39mread_until(\u001B[38;5;124m\"\u001B[39m\u001B[38;5;124mlogin: \u001B[39m\u001B[38;5;124m\"\u001B[39m)\n\u001B[0;32m      5\u001B[0m     telnet\u001B[38;5;241m.\u001B[39mwrite(\u001B[38;5;124mf\u001B[39m\u001B[38;5;124m\"\u001B[39m\u001B[38;5;132;01m{\u001B[39;00musername\u001B[38;5;132;01m}\u001B[39;00m\u001B[38;5;130;01m\\n\u001B[39;00m\u001B[38;5;124m\"\u001B[39m)\n",
      "File \u001B[1;32mE:\\ScoopApp\\apps\\python\\current\\Lib\\telnetlib.py:221\u001B[0m, in \u001B[0;36mTelnet.__init__\u001B[1;34m(self, host, port, timeout)\u001B[0m\n\u001B[0;32m    219\u001B[0m \u001B[38;5;28mself\u001B[39m\u001B[38;5;241m.\u001B[39moption_callback \u001B[38;5;241m=\u001B[39m \u001B[38;5;28;01mNone\u001B[39;00m\n\u001B[0;32m    220\u001B[0m \u001B[38;5;28;01mif\u001B[39;00m host \u001B[38;5;129;01mis\u001B[39;00m \u001B[38;5;129;01mnot\u001B[39;00m \u001B[38;5;28;01mNone\u001B[39;00m:\n\u001B[1;32m--> 221\u001B[0m     \u001B[38;5;28;43mself\u001B[39;49m\u001B[38;5;241;43m.\u001B[39;49m\u001B[43mopen\u001B[49m\u001B[43m(\u001B[49m\u001B[43mhost\u001B[49m\u001B[43m,\u001B[49m\u001B[43m \u001B[49m\u001B[43mport\u001B[49m\u001B[43m,\u001B[49m\u001B[43m \u001B[49m\u001B[43mtimeout\u001B[49m\u001B[43m)\u001B[49m\n",
      "File \u001B[1;32mE:\\ScoopApp\\apps\\python\\current\\Lib\\telnetlib.py:238\u001B[0m, in \u001B[0;36mTelnet.open\u001B[1;34m(self, host, port, timeout)\u001B[0m\n\u001B[0;32m    236\u001B[0m \u001B[38;5;28mself\u001B[39m\u001B[38;5;241m.\u001B[39mtimeout \u001B[38;5;241m=\u001B[39m timeout\n\u001B[0;32m    237\u001B[0m sys\u001B[38;5;241m.\u001B[39maudit(\u001B[38;5;124m\"\u001B[39m\u001B[38;5;124mtelnetlib.Telnet.open\u001B[39m\u001B[38;5;124m\"\u001B[39m, \u001B[38;5;28mself\u001B[39m, host, port)\n\u001B[1;32m--> 238\u001B[0m \u001B[38;5;28mself\u001B[39m\u001B[38;5;241m.\u001B[39msock \u001B[38;5;241m=\u001B[39m \u001B[43msocket\u001B[49m\u001B[38;5;241;43m.\u001B[39;49m\u001B[43mcreate_connection\u001B[49m\u001B[43m(\u001B[49m\u001B[43m(\u001B[49m\u001B[43mhost\u001B[49m\u001B[43m,\u001B[49m\u001B[43m \u001B[49m\u001B[43mport\u001B[49m\u001B[43m)\u001B[49m\u001B[43m,\u001B[49m\u001B[43m \u001B[49m\u001B[43mtimeout\u001B[49m\u001B[43m)\u001B[49m\n",
      "File \u001B[1;32mE:\\ScoopApp\\apps\\python\\current\\Lib\\socket.py:852\u001B[0m, in \u001B[0;36mcreate_connection\u001B[1;34m(address, timeout, source_address, all_errors)\u001B[0m\n\u001B[0;32m    850\u001B[0m \u001B[38;5;28;01mtry\u001B[39;00m:\n\u001B[0;32m    851\u001B[0m     \u001B[38;5;28;01mif\u001B[39;00m \u001B[38;5;129;01mnot\u001B[39;00m all_errors:\n\u001B[1;32m--> 852\u001B[0m         \u001B[38;5;28;01mraise\u001B[39;00m exceptions[\u001B[38;5;241m0\u001B[39m]\n\u001B[0;32m    853\u001B[0m     \u001B[38;5;28;01mraise\u001B[39;00m ExceptionGroup(\u001B[38;5;124m\"\u001B[39m\u001B[38;5;124mcreate_connection failed\u001B[39m\u001B[38;5;124m\"\u001B[39m, exceptions)\n\u001B[0;32m    854\u001B[0m \u001B[38;5;28;01mfinally\u001B[39;00m:\n\u001B[0;32m    855\u001B[0m     \u001B[38;5;66;03m# Break explicitly a reference cycle\u001B[39;00m\n",
      "File \u001B[1;32mE:\\ScoopApp\\apps\\python\\current\\Lib\\socket.py:837\u001B[0m, in \u001B[0;36mcreate_connection\u001B[1;34m(address, timeout, source_address, all_errors)\u001B[0m\n\u001B[0;32m    835\u001B[0m \u001B[38;5;28;01mif\u001B[39;00m source_address:\n\u001B[0;32m    836\u001B[0m     sock\u001B[38;5;241m.\u001B[39mbind(source_address)\n\u001B[1;32m--> 837\u001B[0m \u001B[43msock\u001B[49m\u001B[38;5;241;43m.\u001B[39;49m\u001B[43mconnect\u001B[49m\u001B[43m(\u001B[49m\u001B[43msa\u001B[49m\u001B[43m)\u001B[49m\n\u001B[0;32m    838\u001B[0m \u001B[38;5;66;03m# Break explicitly a reference cycle\u001B[39;00m\n\u001B[0;32m    839\u001B[0m exceptions\u001B[38;5;241m.\u001B[39mclear()\n",
      "\u001B[1;31mConnectionRefusedError\u001B[0m: [WinError 10061] No connection could be made because the target machine actively refused it"
     ]
    }
   ],
   "source": [
    "host = \"127.0.0.1\"\n",
    "with open(\"defaults.txt\", \"r\") as f:\n",
    "    users = f.readlines()\n",
    "    users = list(map(lambda x: x.strip().split(\" \"), users))\n",
    "    for user, pwd in users:\n",
    "        SSHLogin(host, 22, user, pwd)\n",
    "        TelnetLogin(host, 23, user, pwd)"
   ],
   "metadata": {
    "collapsed": false,
    "ExecuteTime": {
     "end_time": "2023-10-26T11:11:24.464697200Z",
     "start_time": "2023-10-26T11:11:20.038843Z"
    }
   },
   "id": "b00aea2ae13239d7"
  }
 ],
 "metadata": {
  "kernelspec": {
   "display_name": "Python 3",
   "language": "python",
   "name": "python3"
  },
  "language_info": {
   "codemirror_mode": {
    "name": "ipython",
    "version": 2
   },
   "file_extension": ".py",
   "mimetype": "text/x-python",
   "name": "python",
   "nbconvert_exporter": "python",
   "pygments_lexer": "ipython2",
   "version": "2.7.6"
  }
 },
 "nbformat": 4,
 "nbformat_minor": 5
}
