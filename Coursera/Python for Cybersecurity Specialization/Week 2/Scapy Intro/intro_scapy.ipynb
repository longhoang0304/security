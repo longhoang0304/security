{
 "cells": [
  {
   "cell_type": "code",
   "execution_count": 1,
   "id": "initial_id",
   "metadata": {
    "collapsed": true,
    "ExecuteTime": {
     "end_time": "2023-10-25T19:52:21.472308Z",
     "start_time": "2023-10-25T19:52:19.462027700Z"
    }
   },
   "outputs": [],
   "source": [
    "from scapy.all import *"
   ]
  },
  {
   "cell_type": "code",
   "execution_count": 5,
   "outputs": [
    {
     "data": {
      "text/plain": "<http.cap: TCP:41 UDP:2 ICMP:0 Other:0>"
     },
     "execution_count": 5,
     "metadata": {},
     "output_type": "execute_result"
    }
   ],
   "source": [
    "packet = rdpcap('http.cap')\n",
    "packet"
   ],
   "metadata": {
    "collapsed": false,
    "ExecuteTime": {
     "end_time": "2023-10-25T19:53:57.781361300Z",
     "start_time": "2023-10-25T19:53:57.699328900Z"
    }
   },
   "id": "fa62056de2b27a95"
  },
  {
   "cell_type": "code",
   "execution_count": 7,
   "outputs": [
    {
     "name": "stdout",
     "output_type": "stream",
     "text": [
      "###[ Ethernet ]### \n",
      "  dst       = fe:ff:20:00:01:00\n",
      "  src       = 00:00:01:00:00:00\n",
      "  type      = IPv4\n",
      "###[ IP ]### \n",
      "     version   = 4\n",
      "     ihl       = 5\n",
      "     tos       = 0x0\n",
      "     len       = 48\n",
      "     id        = 3905\n",
      "     flags     = DF\n",
      "     frag      = 0\n",
      "     ttl       = 128\n",
      "     proto     = tcp\n",
      "     chksum    = 0x91eb\n",
      "     src       = 145.254.160.237\n",
      "     dst       = 65.208.228.223\n",
      "     \\options   \\\n",
      "###[ TCP ]### \n",
      "        sport     = 3372\n",
      "        dport     = http\n",
      "        seq       = 951057939\n",
      "        ack       = 0\n",
      "        dataofs   = 7\n",
      "        reserved  = 0\n",
      "        flags     = S\n",
      "        window    = 8760\n",
      "        chksum    = 0xc30c\n",
      "        urgptr    = 0\n",
      "        options   = [('MSS', 1460), ('NOP', None), ('NOP', None), ('SAckOK', b'')]\n"
     ]
    }
   ],
   "source": [
    "p = packet[0]\n",
    "p.show()"
   ],
   "metadata": {
    "collapsed": false,
    "ExecuteTime": {
     "end_time": "2023-10-25T19:55:00.064401600Z",
     "start_time": "2023-10-25T19:55:00.030463Z"
    }
   },
   "id": "b3c3162ff35b648e"
  },
  {
   "cell_type": "code",
   "execution_count": 11,
   "outputs": [
    {
     "name": "stdout",
     "output_type": "stream",
     "text": [
      "###[ IP ]### \n",
      "  version   = 4\n",
      "  ihl       = None\n",
      "  tos       = 0x0\n",
      "  len       = None\n",
      "  id        = 1\n",
      "  flags     = \n",
      "  frag      = 0\n",
      "  ttl       = 64\n",
      "  proto     = tcp\n",
      "  chksum    = None\n",
      "  src       = 127.0.0.1\n",
      "  dst       = 127.0.0.1\n",
      "  \\options   \\\n",
      "###[ TCP ]### \n",
      "     sport     = ftp_data\n",
      "     dport     = http\n",
      "     seq       = 0\n",
      "     ack       = 0\n",
      "     dataofs   = None\n",
      "     reserved  = 0\n",
      "     flags     = S\n",
      "     window    = 8192\n",
      "     chksum    = None\n",
      "     urgptr    = 0\n",
      "     options   = ''\n"
     ]
    }
   ],
   "source": [
    "# / operator is used to stack packets\n",
    "p = IP()/TCP() # only show ip and tcp info\n",
    "p.show()"
   ],
   "metadata": {
    "collapsed": false,
    "ExecuteTime": {
     "end_time": "2023-10-25T19:59:29.897260700Z",
     "start_time": "2023-10-25T19:59:29.864758400Z"
    }
   },
   "id": "5fc9add2fa776848"
  },
  {
   "cell_type": "code",
   "execution_count": 13,
   "outputs": [
    {
     "name": "stdout",
     "output_type": "stream",
     "text": [
      "###[ IP ]### \n",
      "  version   = 4\n",
      "  ihl       = None\n",
      "  tos       = 0x0\n",
      "  len       = None\n",
      "  id        = 1\n",
      "  flags     = \n",
      "  frag      = 0\n",
      "  ttl       = 64\n",
      "  proto     = tcp\n",
      "  chksum    = None\n",
      "  src       = 127.0.0.1\n",
      "  dst       = 127.0.0.1\n",
      "  \\options   \\\n",
      "###[ TCP ]### \n",
      "     sport     = ftp_data\n",
      "     dport     = 35\n",
      "     seq       = 0\n",
      "     ack       = 0\n",
      "     dataofs   = None\n",
      "     reserved  = 0\n",
      "     flags     = S\n",
      "     window    = 8192\n",
      "     chksum    = None\n",
      "     urgptr    = 0\n",
      "     options   = ''\n"
     ]
    }
   ],
   "source": [
    "# filter by tcp destination port\n",
    "p[TCP].dport = 35\n",
    "p.show()"
   ],
   "metadata": {
    "collapsed": false,
    "ExecuteTime": {
     "end_time": "2023-10-25T20:00:30.089707500Z",
     "start_time": "2023-10-25T20:00:30.062729800Z"
    }
   },
   "id": "e7685152a4c9f03a"
  },
  {
   "cell_type": "code",
   "execution_count": 16,
   "outputs": [
    {
     "name": "stdout",
     "output_type": "stream",
     "text": [
      "###[ IP ]### \n",
      "  version   = 4\n",
      "  ihl       = None\n",
      "  tos       = 0x0\n",
      "  len       = None\n",
      "  id        = 1\n",
      "  flags     = \n",
      "  frag      = 0\n",
      "  ttl       = 64\n",
      "  proto     = tcp\n",
      "  chksum    = None\n",
      "  src       = 192.168.1.112\n",
      "  dst       = 8.8.8.8\n",
      "  \\options   \\\n",
      "###[ TCP ]### \n",
      "     sport     = domain\n",
      "     dport     = 35\n",
      "     seq       = 0\n",
      "     ack       = 0\n",
      "     dataofs   = None\n",
      "     reserved  = 0\n",
      "     flags     = S\n",
      "     window    = 8192\n",
      "     chksum    = None\n",
      "     urgptr    = 0\n",
      "     options   = ''\n",
      "###[ DNS ]### \n",
      "        length    = None\n",
      "        id        = 0\n",
      "        qr        = 0\n",
      "        opcode    = QUERY\n",
      "        aa        = 0\n",
      "        tc        = 0\n",
      "        rd        = 1\n",
      "        ra        = 0\n",
      "        z         = 0\n",
      "        ad        = 0\n",
      "        cd        = 0\n",
      "        rcode     = ok\n",
      "        qdcount   = 1\n",
      "        ancount   = 0\n",
      "        nscount   = 0\n",
      "        arcount   = 0\n",
      "        \\qd        \\\n",
      "         |###[ DNS Question Record ]### \n",
      "         |  qname     = 'www.example.com.'\n",
      "         |  qtype     = A\n",
      "         |  qclass    = IN\n",
      "        an        = None\n",
      "        ns        = None\n",
      "        ar        = None\n"
     ]
    }
   ],
   "source": [
    "# filter by 8.8.8.8 and destination port - 35\n",
    "p = IP(dst=\"8.8.8.8\")/TCP(dport=35)/DNS()\n",
    "p.show()"
   ],
   "metadata": {
    "collapsed": false,
    "ExecuteTime": {
     "end_time": "2023-10-25T20:01:37.268664300Z",
     "start_time": "2023-10-25T20:01:37.254054200Z"
    }
   },
   "id": "63d8984496e4f622"
  }
 ],
 "metadata": {
  "kernelspec": {
   "display_name": "Python 3",
   "language": "python",
   "name": "python3"
  },
  "language_info": {
   "codemirror_mode": {
    "name": "ipython",
    "version": 2
   },
   "file_extension": ".py",
   "mimetype": "text/x-python",
   "name": "python",
   "nbconvert_exporter": "python",
   "pygments_lexer": "ipython2",
   "version": "2.7.6"
  }
 },
 "nbformat": 4,
 "nbformat_minor": 5
}
