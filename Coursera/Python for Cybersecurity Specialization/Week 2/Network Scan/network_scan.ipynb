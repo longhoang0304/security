{
 "cells": [
  {
   "cell_type": "code",
   "execution_count": 2,
   "id": "initial_id",
   "metadata": {
    "collapsed": true,
    "ExecuteTime": {
     "end_time": "2023-10-25T20:18:53.118645Z",
     "start_time": "2023-10-25T20:18:53.116640300Z"
    }
   },
   "outputs": [],
   "source": [
    "from scapy.all import *"
   ]
  },
  {
   "cell_type": "code",
   "execution_count": 3,
   "outputs": [],
   "source": [
    "ports = [25, 80, 53, 443, 445, 8080, 8443]"
   ],
   "metadata": {
    "collapsed": false,
    "ExecuteTime": {
     "end_time": "2023-10-25T20:24:47.496739700Z",
     "start_time": "2023-10-25T20:24:47.444879Z"
    }
   },
   "id": "5763591406fb50e2"
  },
  {
   "cell_type": "code",
   "execution_count": 10,
   "outputs": [],
   "source": [
    "def SynScan(host):\n",
    "    ans, unans = sr(IP(dst=host) / TCP(sport=5555, dport=ports, flags=\"S\"), timeout=2, verbose=0)\n",
    "    print(f\"Open ports at {host}\")\n",
    "    for (s, r, ) in ans:\n",
    "        if s[TCP].dport == r[TCP].sport:\n",
    "            print(s[TCP].dport)"
   ],
   "metadata": {
    "collapsed": false,
    "ExecuteTime": {
     "end_time": "2023-10-25T20:31:46.297765300Z",
     "start_time": "2023-10-25T20:31:46.289756600Z"
    }
   },
   "id": "90b8891944d64348"
  },
  {
   "cell_type": "code",
   "execution_count": 7,
   "outputs": [],
   "source": [
    "def DNSScan(host):\n",
    "    ans, unans = sr(IP(dst=host) / UDP(sport=5555, dport=53) / DNS(rd=1, qd=DNSQR(qname=\"google.com\")), timeout=2, verbose=0)\n",
    "    if ans:\n",
    "        print(f\"DNS Server at {host}\")"
   ],
   "metadata": {
    "collapsed": false,
    "ExecuteTime": {
     "end_time": "2023-10-25T20:30:24.271026900Z",
     "start_time": "2023-10-25T20:30:24.217433400Z"
    }
   },
   "id": "27c43fffbbad014d"
  },
  {
   "cell_type": "code",
   "execution_count": 11,
   "outputs": [
    {
     "name": "stdout",
     "output_type": "stream",
     "text": [
      "Open ports at 8.8.8.8\n",
      "53\n",
      "443\n",
      "DNS Server at 8.8.8.8\n"
     ]
    }
   ],
   "source": [
    "host = \"8.8.8.8\"\n",
    "SynScan(host)\n",
    "DNSScan(host)"
   ],
   "metadata": {
    "collapsed": false,
    "ExecuteTime": {
     "end_time": "2023-10-25T20:31:49.989782400Z",
     "start_time": "2023-10-25T20:31:47.869314300Z"
    }
   },
   "id": "b914703024a9bb0c"
  }
 ],
 "metadata": {
  "kernelspec": {
   "display_name": "Python 3",
   "language": "python",
   "name": "python3"
  },
  "language_info": {
   "codemirror_mode": {
    "name": "ipython",
    "version": 2
   },
   "file_extension": ".py",
   "mimetype": "text/x-python",
   "name": "python",
   "nbconvert_exporter": "python",
   "pygments_lexer": "ipython2",
   "version": "2.7.6"
  }
 },
 "nbformat": 4,
 "nbformat_minor": 5
}
