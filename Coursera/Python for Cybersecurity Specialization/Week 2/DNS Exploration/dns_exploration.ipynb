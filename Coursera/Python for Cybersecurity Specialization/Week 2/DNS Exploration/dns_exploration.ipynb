{
 "cells": [
  {
   "cell_type": "code",
   "execution_count": 31,
   "id": "initial_id",
   "metadata": {
    "collapsed": true,
    "ExecuteTime": {
     "end_time": "2023-10-26T10:07:55.500394500Z",
     "start_time": "2023-10-26T10:07:55.478559500Z"
    }
   },
   "outputs": [],
   "source": [
    "import dns\n",
    "import dns.resolver\n",
    "import socket"
   ]
  },
  {
   "cell_type": "code",
   "execution_count": 32,
   "outputs": [],
   "source": [
    "def ReverseDNS(ip):\n",
    "    try:\n",
    "        result = socket.gethostbyaddr(ip)\n",
    "    except:\n",
    "        return []\n",
    "    return [result[0]] + result[1]"
   ],
   "metadata": {
    "collapsed": false,
    "ExecuteTime": {
     "end_time": "2023-10-26T10:07:55.532604600Z",
     "start_time": "2023-10-26T10:07:55.487525Z"
    }
   },
   "id": "aef41729b3735b21"
  },
  {
   "cell_type": "code",
   "execution_count": 33,
   "outputs": [],
   "source": [
    "def DNSRequest(domain):\n",
    "    try:\n",
    "        result = dns.resolver.resolve(domain, 'A')\n",
    "        if not result:\n",
    "            return\n",
    "        print(f\"DNS Request for {domain}\")\n",
    "        for answer in result:\n",
    "            print(answer)\n",
    "            print(f\"Domain Names {ReverseDNS(answer.to_text())}\")\n",
    "    except (dns.resolver.NXDOMAIN, dns.exception.Timeout, dns.resolver.NoAnswer):\n",
    "        return"
   ],
   "metadata": {
    "collapsed": false,
    "ExecuteTime": {
     "end_time": "2023-10-26T10:07:55.532604600Z",
     "start_time": "2023-10-26T10:07:55.505400200Z"
    }
   },
   "id": "81956558dfd307bb"
  },
  {
   "cell_type": "code",
   "execution_count": 34,
   "outputs": [],
   "source": [
    "def SubdomainSearch(domain, dictionary, nums):\n",
    "    for word in dictionary:\n",
    "        subdomain = f\"{word}.{domain}\"\n",
    "        DNSRequest(subdomain)\n",
    "        if not nums:\n",
    "            continue\n",
    "        for i in range(10):\n",
    "            s = f\"{word}{i}.{domain}\"\n",
    "            DNSRequest(s)"
   ],
   "metadata": {
    "collapsed": false,
    "ExecuteTime": {
     "end_time": "2023-10-26T10:07:55.533601300Z",
     "start_time": "2023-10-26T10:07:55.516889500Z"
    }
   },
   "id": "4332018e8c0a5be4"
  },
  {
   "cell_type": "code",
   "execution_count": 35,
   "outputs": [
    {
     "name": "stdout",
     "output_type": "stream",
     "text": [
      "DNS Request for www.google.com\n",
      "142.250.187.228\n",
      "Domain Names ['lhr25s34-in-f4.1e100.net']\n",
      "DNS Request for www4.google.com\n",
      "172.217.16.238\n",
      "Domain Names ['mad08s04-in-f14.1e100.net', 'lhr48s28-in-f14.1e100.net']\n",
      "DNS Request for www5.google.com\n",
      "172.217.169.36\n",
      "Domain Names ['lhr48s08-in-f4.1e100.net']\n",
      "DNS Request for www6.google.com\n",
      "142.250.180.4\n",
      "Domain Names ['lhr25s32-in-f4.1e100.net']\n",
      "DNS Request for www9.google.com\n",
      "142.250.179.238\n",
      "Domain Names ['lhr25s31-in-f14.1e100.net']\n",
      "DNS Request for mail.google.com\n",
      "142.250.200.37\n",
      "Domain Names ['lhr48s30-in-f5.1e100.net']\n",
      "DNS Request for blog.google.com\n",
      "216.58.213.9\n",
      "Domain Names ['ber01s14-in-f9.1e100.net', 'lhr25s25-in-f9.1e100.net']\n",
      "DNS Request for ns.google.com\n",
      "216.239.32.10\n",
      "Domain Names ['ns1.google.com']\n",
      "DNS Request for ns1.google.com\n",
      "216.239.32.10\n",
      "Domain Names ['ns1.google.com']\n",
      "DNS Request for ns2.google.com\n",
      "216.239.34.10\n",
      "Domain Names ['ns2.google.com']\n",
      "DNS Request for ns3.google.com\n",
      "216.239.36.10\n",
      "Domain Names ['ns3.google.com']\n",
      "DNS Request for ns4.google.com\n",
      "216.239.38.10\n",
      "Domain Names ['ns4.google.com']\n",
      "DNS Request for smtp.google.com\n",
      "64.233.184.27\n",
      "Domain Names ['wa-in-f27.1e100.net']\n",
      "74.125.206.26\n",
      "Domain Names ['wk-in-f26.1e100.net']\n",
      "142.251.168.26\n",
      "Domain Names ['wh-in-f26.1e100.net']\n",
      "142.251.5.27\n",
      "Domain Names ['wg-in-f27.1e100.net']\n",
      "64.233.184.26\n",
      "Domain Names ['wa-in-f26.1e100.net']\n",
      "DNS Request for admin.google.com\n",
      "142.250.200.46\n",
      "Domain Names ['lhr48s30-in-f14.1e100.net']\n",
      "DNS Request for vpn.google.com\n",
      "64.9.224.70\n",
      "Domain Names ['vpn.google.com']\n",
      "64.9.224.68\n",
      "Domain Names ['vpn.google.com']\n",
      "64.9.224.69\n",
      "Domain Names ['vpn.google.com']\n",
      "DNS Request for dns.google.com\n",
      "8.8.8.8\n",
      "Domain Names ['dns.google']\n",
      "8.8.4.4\n",
      "Domain Names ['dns.google']\n",
      "DNS Request for support.google.com\n",
      "142.250.178.14\n",
      "Domain Names ['lhr48s27-in-f14.1e100.net']\n",
      "DNS Request for web.google.com\n",
      "216.58.212.238\n",
      "Domain Names ['ams16s22-in-f14.1e100.net', 'lhr25s28-in-f14.1e100.net', 'ams16s22-in-f238.1e100.net']\n",
      "DNS Request for email.google.com\n",
      "142.250.200.14\n",
      "Domain Names ['lhr48s29-in-f14.1e100.net']\n",
      "DNS Request for cloud.google.com\n",
      "216.58.201.110\n",
      "Domain Names ['lhr48s48-in-f14.1e100.net', 'prg03s02-in-f110.1e100.net', 'prg03s02-in-f14.1e100.net']\n",
      "DNS Request for admin.google.com\n",
      "216.58.204.78\n",
      "Domain Names ['lhr48s49-in-f14.1e100.net', 'lhr25s13-in-f78.1e100.net', 'lhr25s13-in-f14.1e100.net']\n",
      "DNS Request for api.google.com\n",
      "216.58.212.196\n",
      "Domain Names ['ams16s21-in-f196.1e100.net', 'ams16s21-in-f4.1e100.net', 'lhr25s27-in-f4.1e100.net']\n"
     ]
    }
   ],
   "source": [
    "domain = \"google.com\"\n",
    "subdomainFile = \"./subdomains.txt\"\n",
    "dictionary = []\n",
    "with open(subdomainFile, \"r\") as f:\n",
    "    dictionary = list(map(lambda x: x.strip(), f.readlines()))\n",
    "SubdomainSearch(domain, dictionary, True)"
   ],
   "metadata": {
    "collapsed": false,
    "ExecuteTime": {
     "end_time": "2023-10-26T10:08:04.431638Z",
     "start_time": "2023-10-26T10:07:55.530602100Z"
    }
   },
   "id": "373199ab0217a0f2"
  },
  {
   "cell_type": "code",
   "execution_count": 35,
   "outputs": [],
   "source": [],
   "metadata": {
    "collapsed": false,
    "ExecuteTime": {
     "end_time": "2023-10-26T10:08:04.440159700Z",
     "start_time": "2023-10-26T10:08:04.429281600Z"
    }
   },
   "id": "6614502011032ce6"
  }
 ],
 "metadata": {
  "kernelspec": {
   "display_name": "Python 3",
   "language": "python",
   "name": "python3"
  },
  "language_info": {
   "codemirror_mode": {
    "name": "ipython",
    "version": 2
   },
   "file_extension": ".py",
   "mimetype": "text/x-python",
   "name": "python",
   "nbconvert_exporter": "python",
   "pygments_lexer": "ipython2",
   "version": "2.7.6"
  }
 },
 "nbformat": 4,
 "nbformat_minor": 5
}
